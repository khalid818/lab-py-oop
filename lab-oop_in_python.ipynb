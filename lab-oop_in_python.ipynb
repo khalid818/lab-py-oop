{
 "cells": [
  {
   "cell_type": "markdown",
   "metadata": {},
   "source": [
    "# LAB | Object-Oriented Programming (OOP) in Python"
   ]
  },
  {
   "cell_type": "markdown",
   "metadata": {},
   "source": [
    "## Overview\n",
    "This exercise notebook will help you practice Object-Oriented Programming concepts in Python. You will create classes, instantiate objects, and use inheritance to build more complex structures.\n",
    "\n",
    "## Instructions\n",
    "- Complete each exercise by writing the appropriate code in the provided space.\n",
    "- Test your code to ensure it works as expected.\n",
    "- Use the hints provided if you get stuck."
   ]
  },
  {
   "cell_type": "markdown",
   "metadata": {},
   "source": [
    "### Exercise 1: Create a Class with Instance Attributes\n",
    "Write a Python program to create a `Vehicle` class with `max_speed` and `mileage` instance attributes."
   ]
  },
  {
   "cell_type": "code",
   "execution_count": null,
   "metadata": {},
   "outputs": [
    {
     "name": "stdout",
     "output_type": "stream",
     "text": [
      "200 15000\n"
     ]
    }
   ],
   "source": [
    "class Vehicle:\n",
    "    def __init__(self, max_speed, mileage):\n",
    "        self.max_speed = max_speed\n",
    "        self.mileage = mileage\n",
    "\n",
    "# Example instantiation\n",
    "modelX = Vehicle(200, 15000)\n",
    "\n",
    "# Print attributes\n",
    "print(modelX.max_speed, modelX.mileage)"
   ]
  },
  {
   "cell_type": "markdown",
   "metadata": {},
   "source": [
    "### Exercise 2: Create a Vehicle Class Without Any Variables and Methods\n",
    "Create a `Vehicle` class without any variables or methods."
   ]
  },
  {
   "cell_type": "code",
   "execution_count": 3,
   "metadata": {},
   "outputs": [
    {
     "name": "stdout",
     "output_type": "stream",
     "text": [
      "<class '__main__.Vehicle'>\n"
     ]
    }
   ],
   "source": [
    "class Vehicle:\n",
    "    pass\n",
    "\n",
    "# Example instantiation\n",
    "my_vehicle = Vehicle()\n",
    "print(type(my_vehicle))"
   ]
  },
  {
   "cell_type": "markdown",
   "metadata": {},
   "source": [
    "### Exercise 3: Create a Child Class Bus\n",
    "Create a child class `Bus` that will inherit all of the variables and methods of the `Vehicle` class."
   ]
  },
  {
   "cell_type": "code",
   "execution_count": 5,
   "metadata": {},
   "outputs": [
    {
     "name": "stdout",
     "output_type": "stream",
     "text": [
      "<class '__main__.Bus'>\n"
     ]
    }
   ],
   "source": [
    "class Bus(Vehicle):\n",
    "    pass\n",
    "\n",
    "# Example instantiation\n",
    "school_bus = Bus()\n",
    "print(type(school_bus))"
   ]
  },
  {
   "cell_type": "markdown",
   "metadata": {},
   "source": [
    "### Exercise 4: Class Inheritance with Method Overriding\n",
    "Create a `Bus` class that inherits from the `Vehicle` class. Override the `fare()` method to include an extra charge for maintenance."
   ]
  },
  {
   "cell_type": "code",
   "execution_count": 8,
   "metadata": {},
   "outputs": [
    {
     "name": "stdout",
     "output_type": "stream",
     "text": [
      "Base fare with extra charge\n"
     ]
    }
   ],
   "source": [
    "class Vehicle:\n",
    "    def fare(self):\n",
    "        return \"Base fare\"\n",
    "\n",
    "class Bus(Vehicle):\n",
    "    def fare(self):\n",
    "        return super().fare() + \" with extra charge\"\n",
    "\n",
    "school_bus = Bus()\n",
    "print(school_bus.fare())"
   ]
  },
  {
   "cell_type": "markdown",
   "metadata": {},
   "source": [
    "### Exercise 5: Define a Class Attribute\n",
    "Define a property that must have the same value for every class instance (object). Set a default value for `color`."
   ]
  },
  {
   "cell_type": "code",
   "execution_count": 9,
   "metadata": {},
   "outputs": [
    {
     "name": "stdout",
     "output_type": "stream",
     "text": [
      "White\n"
     ]
    }
   ],
   "source": [
    "class Vehicle:\n",
    "    color = \"White\" # Class attribute\n",
    "\n",
    "    def __init__(self, name, max_speed, mileage):\n",
    "        self.name = name\n",
    "        self.max_speed = max_speed\n",
    "        self.mileage = mileage\n",
    "\n",
    "# Example instantiation\n",
    "school_bus = Vehicle(\"School Volvo\", 180, 12)\n",
    "print(school_bus.color)"
   ]
  },
  {
   "cell_type": "markdown",
   "metadata": {},
   "source": [
    "### Exercise 6: Class Inheritance with Default Fare Calculation\n",
    "Create a `Bus` child class that inherits from the `Vehicle` class. The default fare charge of any vehicle is `seating capacity * 100`. If the vehicle is a bus instance, add an extra 10% on the full fare as a maintenance charge."
   ]
  },
  {
   "cell_type": "code",
   "execution_count": null,
   "metadata": {},
   "outputs": [
    {
     "name": "stdout",
     "output_type": "stream",
     "text": [
      "Total Bus fare is: 5500.0\n"
     ]
    }
   ],
   "source": [
    "class Vehicle:\n",
    "    def __init__(self, name, mileage, capacity):\n",
    "        self.name = name\n",
    "        self.mileage = mileage\n",
    "        self.capacity = capacity\n",
    "\n",
    "    def fare(self):\n",
    "        return self.capacity * 100\n",
    "\n",
    "class Bus(Vehicle):\n",
    "    def fare(self):\n",
    "        base_fare = super().fare()\n",
    "        maintenance_charge = base_fare * 0.10  # 10% extra charge\n",
    "        return base_fare + maintenance_charge\n",
    "\n",
    "# Example instantiation\n",
    "school_bus = Bus(\"School Volvo\", 12, 50)\n",
    "print(\"Total Bus fare is:\", school_bus.fare())"
   ]
  },
  {
   "cell_type": "markdown",
   "metadata": {},
   "source": [
    "### Exercise 7: Check Type of an Object\n",
    "Write a program to determine which class a given object belongs to."
   ]
  },
  {
   "cell_type": "code",
   "execution_count": 14,
   "metadata": {},
   "outputs": [
    {
     "name": "stdout",
     "output_type": "stream",
     "text": [
      "<class '__main__.Bus'>\n"
     ]
    }
   ],
   "source": [
    "school_bus = Bus(\"School Volvo\", 12, 50)\n",
    "print(type(school_bus))"
   ]
  },
  {
   "cell_type": "markdown",
   "metadata": {},
   "source": [
    "### Exercise 8: Check Instance of Class \n",
    "Determine if `school_bus` is also an instance of the `Vehicle` class.\n"
   ]
  },
  {
   "cell_type": "code",
   "execution_count": 13,
   "metadata": {},
   "outputs": [
    {
     "name": "stdout",
     "output_type": "stream",
     "text": [
      "True\n"
     ]
    }
   ],
   "source": [
    "print(isinstance(school_bus, Vehicle))"
   ]
  },
  {
   "cell_type": "markdown",
   "metadata": {},
   "source": [
    "### Exercise Completion  \n",
    "Once you have completed all exercises:\n",
    "- Review your solutions.\n",
    "- Ensure your code is well-documented with comments explaining your logic.\n",
    "- Save your notebook for submission or further review.\n",
    "\n",
    "Happy coding! Enjoy exploring Object-Oriented Programming with Python!\n"
   ]
  }
 ],
 "metadata": {
  "kernelspec": {
   "display_name": "base",
   "language": "python",
   "name": "python3"
  },
  "language_info": {
   "codemirror_mode": {
    "name": "ipython",
    "version": 3
   },
   "file_extension": ".py",
   "mimetype": "text/x-python",
   "name": "python",
   "nbconvert_exporter": "python",
   "pygments_lexer": "ipython3",
   "version": "3.11.5"
  }
 },
 "nbformat": 4,
 "nbformat_minor": 2
}
